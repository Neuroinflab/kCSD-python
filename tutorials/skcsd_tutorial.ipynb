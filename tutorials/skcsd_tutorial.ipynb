{
 "cells": [
  {
   "cell_type": "markdown",
   "metadata": {},
   "source": [
    "# sKCSD tutorial\n",
    "In this tutorial we will cover three topics: data format for sKCSD estimation, sKCSD method and source visualization. "
   ]
  },
  {
   "cell_type": "code",
   "execution_count": null,
   "metadata": {},
   "outputs": [],
   "source": [
    "from kcsd import sKCSDcell, sKCSD, sample_data_path\n",
    "from kcsd import utility_functions as utils\n",
    "from kcsd.utility_functions import LoadData\n",
    "import numpy as np\n",
    "import matplotlib.pyplot as plt\n",
    "import os"
   ]
  },
  {
   "cell_type": "code",
   "execution_count": null,
   "metadata": {},
   "outputs": [],
   "source": [
    "data_fname = os.path.join(sample_data_path, \"gang_7x7_200\")"
   ]
  },
  {
   "cell_type": "code",
   "execution_count": null,
   "metadata": {},
   "outputs": [],
   "source": [
    "data = LoadData(data_fname)"
   ]
  },
  {
   "cell_type": "markdown",
   "metadata": {},
   "source": [
    "Data should be divided into three subdirectories: morphology, electrode_positions and LFP, each containing one file with morphology, electrode_positions and LFP. LoadData currently supports only swc morphology format. LoadData can read in electrode positions as a text file either with 1 column with x postions for each electrode followed by y postions for each electrodes followed by z positions of each electrode; or a textfile with 3 columns with x, y, z electrode postions.  LFPs should be a text file with appropriate numbers of the shape of n_electrodes x n_time_samples. LoadData also allows for initialization of an empty object and reading in arbitrary data files from specific location using assign function: \n",
    "data1 = LoadData()\n",
    "data1.assign('morphology', path_to_morphology_file)\n",
    "data1.assign('electrode_positions_file', path_to_electrode_positions_file)\n",
    "data1.assign('LFP', path_to_LFP_file)"
   ]
  },
  {
   "cell_type": "markdown",
   "metadata": {},
   "source": [
    "Data used in this tutorial was generated using figures/skcsd_paper/run_LFPy.py (class for running example simulations using LFPy). LFPy uses mV for voltage, ms for time and um for distance (or position). sKCSD (and KCSD) requires data in SI units. That is why data used for sKCSD estimation needs to be scaled."
   ]
  },
  {
   "cell_type": "code",
   "execution_count": null,
   "metadata": {},
   "outputs": [],
   "source": [
    "data.LFP /= 1e3\n",
    "data.morphology[:, 2:6] /= 1e6\n",
    "data.ele_pos /= 1e6"
   ]
  },
  {
   "cell_type": "markdown",
   "metadata": {},
   "source": [
    "Let us visualise the current density."
   ]
  },
  {
   "cell_type": "code",
   "execution_count": null,
   "metadata": {},
   "outputs": [],
   "source": [
    "#Other parameters\n",
    "time = np.loadtxt(os.path.join(data_fname, 'tvec.txt'))\n",
    "seglen = np.loadtxt(os.path.join(data_fname, 'seglength'))\n",
    "ground_truth = np.loadtxt(os.path.join(data_fname, 'membcurr'))/seglen[:, None]*1e-3\n",
    "vmin, vmax =  ground_truth.min(), ground_truth.max()\n",
    "if abs(vmin) > abs(vmax):\n",
    "    vmax = abs(vmin)\n",
    "else:\n",
    "    vmin = -vmax\n",
    "fig, ax = plt.subplots(1, 1)\n",
    "ax.set_aspect('equal')\n",
    "ax.set_xlabel('time (ms)')\n",
    "ax.set_ylabel('#segment')\n",
    "ax.imshow(ground_truth, origin=\"lower\", aspect=\"auto\", interpolation=\"none\", cmap=\"bwr\", vmin=vmin, vmax=vmax, extent=[time[0], time[-1], 1, len(seglen)])\n"
   ]
  },
  {
   "cell_type": "markdown",
   "metadata": {},
   "source": [
    "Corresponding voltage in the soma:"
   ]
  },
  {
   "cell_type": "code",
   "execution_count": null,
   "metadata": {},
   "outputs": [],
   "source": [
    "somav = np.loadtxt(os.path.join(data_fname, 'somav.txt'))\n",
    "fig, ax = plt.subplots(1, 1)\n",
    "ax.set_aspect('equal')\n",
    "ax.set_xlabel('time (ms)')\n",
    "ax.set_ylabel('voltage (mV)')\n",
    "ax.plot(time, somav)"
   ]
  },
  {
   "cell_type": "markdown",
   "metadata": {},
   "source": [
    "To calculate sKCSD you must specify the width of the source (R) and noise level (lambd). For neuron morphologies R is going to be of the order of microns. We specified lambd = 10000, which amounts to roughly 10% noise."
   ]
  },
  {
   "cell_type": "code",
   "execution_count": null,
   "metadata": {},
   "outputs": [],
   "source": [
    "n_src = 25\n",
    "R = 8e-6\n",
    "lambd = 0.0001\n",
    "ker = sKCSD(data.ele_pos,\n",
    "            data.LFP,\n",
    "            data.morphology,\n",
    "            n_src_init=n_src,\n",
    "            src_type='gauss',\n",
    "            lambd=lambd,\n",
    "            R_init=R,\n",
    "            exact=True,\n",
    "            sigma=0.3)"
   ]
  },
  {
   "cell_type": "markdown",
   "metadata": {},
   "source": [
    "skcsd.values(estimate) provides potential and current source density. For potential estimate=\"POT\", for  current density estimate='CSD'. By default skcsd.values() provides CSD."
   ]
  },
  {
   "cell_type": "code",
   "execution_count": null,
   "metadata": {},
   "outputs": [],
   "source": [
    "skcsd = ker.values(transformation=\"segments\")"
   ]
  },
  {
   "cell_type": "markdown",
   "metadata": {},
   "source": [
    "Both current density and potential are calculated in the 1D space of the morphology loop. sKCSD.values(estimate, transformation) calculates either CSD (estimate=\"CSD\") or potential (estimation=\"POT\") and allows both for transformation to segments and a 3D morphology (for no transformation specify transformation=None). By default (sKCSD.values()) potential and current density are transformed to a 3D cube spanning from (xmin, ymin, zmin) to (xmax, ymax, zmax). To store cell morphology, morphology loop, source positions and allow easy transformations between morphology (segments), morphology loop and 3D cube, sKCSD uses a separate object sKCSDcell. By default sKCSD uses minimum and maximum neuron coordinates from the swc file."
   ]
  },
  {
   "cell_type": "code",
   "execution_count": null,
   "metadata": {},
   "outputs": [],
   "source": [
    "fig, ax = plt.subplots(1, 2)\n",
    "ax[1].set_aspect('equal')\n",
    "ax[1].set_xlabel('time (ms)')\n",
    "ax[1].imshow(skcsd, origin=\"lower\", aspect=\"auto\",\n",
    "             interpolation=\"none\", cmap=\"bwr\",\n",
    "             vmin=vmin, vmax=vmax,\n",
    "             extent=[time[0], time[-1], 1, len(seglen)])\n",
    "ax[0].set_aspect('equal')\n",
    "ax[0].set_xlabel('time (ms)')\n",
    "ax[0].set_ylabel('#segment')\n",
    "ax[0].imshow(ground_truth, origin=\"lower\", aspect=\"auto\",\n",
    "             interpolation=\"none\", cmap=\"bwr\",\n",
    "             vmin=vmin, vmax=vmax,\n",
    "             extent=[time[0], time[-1], 1, len(seglen)])\n",
    "ax[0].set_title('Ground truth')\n",
    "ax[1].set_title('estimated current density')\n"
   ]
  },
  {
   "cell_type": "markdown",
   "metadata": {},
   "source": [
    "To calculate CSD in the 3D cube:"
   ]
  },
  {
   "cell_type": "code",
   "execution_count": null,
   "metadata": {},
   "outputs": [],
   "source": [
    "skcsd_3D =  ker.values(transformation=\"3D\")"
   ]
  },
  {
   "cell_type": "markdown",
   "metadata": {},
   "source": [
    "To visualize morphology you can use the sKCSD cell object:"
   ]
  },
  {
   "cell_type": "code",
   "execution_count": null,
   "metadata": {},
   "outputs": [],
   "source": [
    "morpho_z, extent = ker.cell.draw_cell2D(axis=2, segments=False)\n",
    "extent = [extent[-2]*1e6, extent[-1]*1e6, extent[0]*1e6, extent[1]*1e6]"
   ]
  },
  {
   "cell_type": "markdown",
   "metadata": {},
   "source": [
    "draw_cell2D(axis) provides a 2D view of the 3D morphology together with the minimum and maximum coordinates of the 2D view (extent) along a specified axis: 0 for x, 1 for y and 2 for z. Z axis is picked by default. For projections along x-axis extent equals to [ymin, ymax, zmin, zmax], for projections along y-axis extent equals to [xmin, xmax, zmin, zmax], for projections along z-axis extent equals to [xmin, xmax, ymin, ymax]. If segments=True is picked, the cell will be drawn using segment coordinates, if segments=False, the cell will be drawn using loop coordinates. If the number of sources (n_src) is low, these morphologies might differ."
   ]
  },
  {
   "cell_type": "code",
   "execution_count": null,
   "metadata": {},
   "outputs": [],
   "source": [
    "fig, ax = plt.subplots(1, 1)\n",
    "ax.imshow(morpho_z, origin=\"lower\", aspect=\"auto\", interpolation=\"none\", extent=extent)"
   ]
  },
  {
   "cell_type": "markdown",
   "metadata": {},
   "source": [
    "Or create a new sKCSDcell object using morphology data and electrode positions:"
   ]
  },
  {
   "cell_type": "code",
   "execution_count": null,
   "metadata": {},
   "outputs": [],
   "source": [
    "n_src = 25\n",
    "cell_itself = sKCSDcell(data.morphology, data.ele_pos, n_src)\n",
    "morpho, extent = cell_itself.draw_cell2D(axis=2, segments=False)\n",
    "extent = [extent[-2], extent[-1], extent[0], extent[1]]\n",
    "extent = [x*1e6 for x in extent]\n",
    "fig, ax = plt.subplots(1, 1)\n",
    "ax.imshow(morpho, origin=\"lower\", aspect=\"auto\", interpolation=\"none\", extent=extent)\n",
    "ax.set_ylabel('x [um]')\n",
    "ax.set_xlabel('y [um]')\n",
    "idx = np.where(time == 40)[0][0]\n",
    "csd = skcsd_3D[:, :, :, idx].sum(axis=(2))\n",
    "print(csd.shape, extent)\n",
    "ax.imshow(csd, origin=\"lower\", aspect=\"auto\", interpolation=\"none\", extent=extent, vmin=vmin, vmax=vmax, alpha=.5, cmap=plt.cm.bwr_r)"
   ]
  },
  {
   "cell_type": "markdown",
   "metadata": {},
   "source": [
    "If sKCSDcell object is created by sKCSD the minimum and maximum 3D coordinates take values of the minimum and maximum coordinates of the morphology. When creating a separate sKCSDcell object one can specify custom xmin, ymin, zmin and xmax, ymax, zmax, which can later be convenient, when plotting CSD and electrode positions. Another useful parameter is tolerance, which specifies minimum width of the voxel (in any direction). By default tolerance is set to 2 um."
   ]
  },
  {
   "cell_type": "code",
   "execution_count": null,
   "metadata": {},
   "outputs": [],
   "source": [
    "tolerance = 3e-6\n",
    "xmin = data.ele_pos[:, 0].min() - 50e-6\n",
    "xmax = data.ele_pos[:, 0].max() + 50e-6\n",
    "ymin = data.ele_pos[:, 1].min() - 40e-6\n",
    "ymax = data.ele_pos[:, 1].max() + 40e-6\n",
    "zmin = data.ele_pos[:, 2].min() - 50e-6\n",
    "zmax = data.ele_pos[:, 2].max() + 50e-6\n",
    "cell_itself = sKCSDcell(data.morphology, data.ele_pos, n_src,\n",
    "                        xmin=xmin, xmax=xmax, ymin=ymin, ymax=ymax,\n",
    "                        zmin=zmin, zmax=zmax, tolerance=tolerance)"
   ]
  },
  {
   "cell_type": "code",
   "execution_count": null,
   "metadata": {},
   "outputs": [],
   "source": [
    "morpho_z, extent = cell_itself.draw_cell2D(axis=2, segments=False)\n",
    "extent = [extent[-2], extent[-1], extent[0], extent[1]]\n",
    "extent = [x*1e6 for x in extent]\n",
    "fig, ax = plt.subplots(1, 1)\n",
    "ax.imshow(morpho_z, origin=\"lower\", aspect=\"auto\", interpolation=\"none\", extent=extent)\n",
    "ax.set_ylabel('x [um]')\n",
    "ax.set_xlabel('y [um]')\n",
    "for i in range(len(data.ele_pos)):\n",
    "    pos_x, pos_y = data.ele_pos[i, 1]*1e6, data.ele_pos[i, 0]*1e6\n",
    "    ax.text(pos_x, pos_y, '*', ha=\"center\", va=\"center\", color=\"b\")"
   ]
  },
  {
   "cell_type": "markdown",
   "metadata": {},
   "source": [
    "Let's visualize CSD on top of the morphology in t = 40 ms. sKCSDcell objects can be used to rescale both the CSD and the potential to visualize it in a larger space spanned by (xmin, ymin, zmin) and (xmax, ymax, zmax). To transform these objects it is best to use CSD in the morphology loop space (ker.values(transformation=None)) and tranform them using transform_to_3D method of sKCDcell."
   ]
  },
  {
   "cell_type": "code",
   "execution_count": null,
   "metadata": {},
   "outputs": [],
   "source": [
    "fig, ax = plt.subplots(1, 1)\n",
    "ax.imshow(morpho_z, origin=\"lower\", aspect=\"auto\", interpolation=\"none\", extent=extent)\n",
    "ax.set_ylabel('x [um]')\n",
    "ax.set_xlabel('y [um]')\n",
    "skcsd = ker.values(transformation=None)\n",
    "skcsd_3D = cell_itself.transform_to_3D(skcsd, what=\"loop\")\n",
    "idx = np.where(time == 40)[0][0]\n",
    "csd = skcsd_3D[:, :, :, idx].sum(axis=(2))\n",
    "ax.imshow(csd, origin=\"lower\", aspect=\"auto\", interpolation=\"none\", extent=extent, vmin=vmin, vmax=vmax, alpha=.5, cmap=plt.cm.bwr_r)\n",
    "ax.set_ylabel('x [um]')\n",
    "ax.set_xlabel('y [um]')\n",
    "for i in range(len(data.ele_pos)):\n",
    "    pos_x, pos_y = data.ele_pos[i, 1]*1e6, data.ele_pos[i, 0]*1e6\n",
    "    ax.text(pos_x, pos_y, '*', ha=\"center\", va=\"center\", color=\"g\")"
   ]
  },
  {
   "cell_type": "code",
   "execution_count": null,
   "metadata": {},
   "outputs": [],
   "source": []
  },
  {
   "cell_type": "code",
   "execution_count": null,
   "metadata": {},
   "outputs": [],
   "source": []
  }
 ],
 "metadata": {
  "kernelspec": {
   "display_name": "Python 3",
   "language": "python",
   "name": "python3"
  },
  "language_info": {
   "codemirror_mode": {
    "name": "ipython",
    "version": 3
   },
   "file_extension": ".py",
   "mimetype": "text/x-python",
   "name": "python",
   "nbconvert_exporter": "python",
   "pygments_lexer": "ipython3",
   "version": "3.6.7"
  }
 },
 "nbformat": 4,
 "nbformat_minor": 2
}
