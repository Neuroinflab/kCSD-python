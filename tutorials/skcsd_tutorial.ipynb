{
 "cells": [
  {
   "cell_type": "markdown",
   "metadata": {},
   "source": [
    "# sKCSD tutorial\n",
    "In this tutorial we will cover three topics: data format for sKCSD estimation, sKCSD method and source visualization. "
   ]
  },
  {
   "cell_type": "code",
   "execution_count": 1,
   "metadata": {},
   "outputs": [],
   "source": [
    "from kcsd import sKCSDcell, sKCSD, sample_data_path\n",
    "from kcsd import utility_functions as utils\n",
    "from kcsd.utility_functions import LoadData\n",
    "import numpy as np\n",
    "import matplotlib.pyplot as plt\n",
    "import os"
   ]
  },
  {
   "cell_type": "code",
   "execution_count": 2,
   "metadata": {},
   "outputs": [],
   "source": [
    "data_fname = os.path.join(sample_data_path, \"gang_7x7_200\")\n"
   ]
  },
  {
   "cell_type": "code",
   "execution_count": 3,
   "metadata": {},
   "outputs": [
    {
     "name": "stdout",
     "output_type": "stream",
     "text": [
      "Load /home/jszmek/kCSD-python/kcsd/../data/gang_7x7_200/morphology/gang_7x7_200_rows_10_cols_10_xmin_-200_xmax_200_ymin_-200_ymax_200_orientation_3.swc\n",
      "Load /home/jszmek/kCSD-python/kcsd/../data/gang_7x7_200/electrode_positions/elcoord_x_y_z\n",
      "Load /home/jszmek/kCSD-python/kcsd/../data/gang_7x7_200/LFP/MyLFP\n"
     ]
    }
   ],
   "source": [
    "data = LoadData(data_fname)"
   ]
  },
  {
   "cell_type": "markdown",
   "metadata": {},
   "source": [
    "Data should be divided into three subdirectories: morphology, electrode_positions and LFP, each containing one file with morphology, electrode_positions and LFP. LoadData currently supports only swc morphology format. LoadData can read in electrode positions as a text file either with 1 column with x postions for each electrode followed by y postions for each electrodes followed by z positions of each electrode; or a textfile with 3 columns with x, y, z electrode postions.  LFPs should be a text file with appropriate numbers of the shape of n_electrodes x n_time_samples. LoadData also allows for initialization of an empty object and reading in arbitrary data files from specific location using assign function: \n",
    "data1 = LoadData()\n",
    "data1.assign('morphology', path_to_morphology_file)\n",
    "data1.assign('electrode_positions_file', path_to_electrode_positions_file)\n",
    "data1.assign('LFP', path_to_LFP_file)"
   ]
  },
  {
   "cell_type": "markdown",
   "metadata": {},
   "source": [
    "Data used in this tutorial was generated using figures/skcsd_paper/run_LFPy.py (class for running example simulations using LFPy). LFPy uses mV for voltage, ms for time and um for distance (or position). sKCSD (and KCSD) requires data in SI units. That is why data used for sKCSD estimation needs to be scaled."
   ]
  },
  {
   "cell_type": "code",
   "execution_count": 4,
   "metadata": {},
   "outputs": [],
   "source": [
    "data.LFP /= 1e3\n",
    "data.morphology[:, 2:6] /= 1e6\n",
    "data.ele_pos /= 1e6"
   ]
  },
  {
   "cell_type": "markdown",
   "metadata": {},
   "source": [
    "Let us visualise the current density."
   ]
  },
  {
   "cell_type": "code",
   "execution_count": 5,
   "metadata": {},
   "outputs": [
    {
     "data": {
      "text/plain": [
       "<matplotlib.image.AxesImage at 0x7fceb3c9b7f0>"
      ]
     },
     "execution_count": 5,
     "metadata": {},
     "output_type": "execute_result"
    },
    {
     "data": {
      "image/png": "[encoded data removed]",
      "text/plain": [
       "<Figure size 432x288 with 1 Axes>"
      ]
     },
     "metadata": {
      "needs_background": "light"
     },
     "output_type": "display_data"
    }
   ],
   "source": [
    "#Other parameters\n",
    "time = np.loadtxt(os.path.join(data_fname, 'tvec.txt'))\n",
    "seglen = np.loadtxt(os.path.join(data_fname, 'seglength'))\n",
    "ground_truth = np.loadtxt(os.path.join(data_fname, 'membcurr'))/seglen[:, None]*1e-3\n",
    "vmin, vmax =  ground_truth.min(), ground_truth.max()\n",
    "if abs(vmin) > abs(vmax):\n",
    "    vmax = abs(vmin)\n",
    "else:\n",
    "    vmin = -vmax\n",
    "fig, ax = plt.subplots(1, 1)\n",
    "ax.set_aspect('equal')\n",
    "ax.set_xlabel('time (ms)')\n",
    "ax.set_ylabel('#segment')\n",
    "ax.imshow(ground_truth, origin=\"lower\", aspect=\"auto\", interpolation=\"none\", cmap=\"bwr\", vmin=vmin, vmax=vmax, extent=[time[0], time[-1], 1, len(seglen)])\n"
   ]
  },
  {
   "cell_type": "markdown",
   "metadata": {},
   "source": [
    "Corresponding voltage in the soma:"
   ]
  },
  {
   "cell_type": "code",
   "execution_count": 6,
   "metadata": {},
   "outputs": [
    {
     "data": {
      "text/plain": [
       "[<matplotlib.lines.Line2D at 0x7fceb3c722b0>]"
      ]
     },
     "execution_count": 6,
     "metadata": {},
     "output_type": "execute_result"
    },
    {
     "data": {
      "image/png": "[encoded data removed]",
      "text/plain": [
       "<Figure size 432x288 with 1 Axes>"
      ]
     },
     "metadata": {
      "needs_background": "light"
     },
     "output_type": "display_data"
    }
   ],
   "source": [
    "somav = np.loadtxt(os.path.join(data_fname, 'somav.txt'))\n",
    "fig, ax = plt.subplots(1, 1)\n",
    "ax.set_aspect('equal')\n",
    "ax.set_xlabel('time (ms)')\n",
    "ax.set_ylabel('voltage (mV)')\n",
    "ax.plot(time, somav)"
   ]
  },
  {
   "cell_type": "markdown",
   "metadata": {},
   "source": [
    "To calculate sKCSD you must specify the width of the source (R) and noise level (lambd). For neuron morphologies R is going to be of the order of microns. We specified lambd = 10000, which amounts to roughly 10% noise."
   ]
  },
  {
   "cell_type": "code",
   "execution_count": 7,
   "metadata": {},
   "outputs": [
    {
     "name": "stderr",
     "output_type": "stream",
     "text": [
      "/home/jszmek/.local/lib/python3.6/site-packages/scipy/integrate/quadpack.py:385: IntegrationWarning: The maximum number of subdivisions (50) has been achieved.\n",
      "  If increasing the limit yields no improvement it is advised to analyze \n",
      "  the integrand in order to determine the difficulties.  If the position of a \n",
      "  local difficulty can be determined (singularity, discontinuity) one will \n",
      "  probably gain from splitting up the interval and calling the integrator \n",
      "  on the subranges.  Perhaps a special-purpose integrator should be used.\n",
      "  warnings.warn(msg, IntegrationWarning)\n"
     ]
    }
   ],
   "source": [
    "n_src = 100\n",
    "R = 2e-6\n",
    "lambd = 0.0001\n",
    "ker = sKCSD(data.ele_pos,\n",
    "            data.LFP,\n",
    "            data.morphology,\n",
    "            n_src_init=n_src,\n",
    "            src_type='gauss',\n",
    "            lambd=lambd,\n",
    "            R_init=R,\n",
    "            exact=True,\n",
    "            sigma=0.3)"
   ]
  },
  {
   "cell_type": "markdown",
   "metadata": {},
   "source": [
    "skcsd.values(estimate) provides potential and current source density. For potential estimate=\"POT\", for  current density estimate='CSD'. By default skcsd.values() provides CSD."
   ]
  },
  {
   "cell_type": "code",
   "execution_count": 8,
   "metadata": {},
   "outputs": [],
   "source": [
    "skcsd = ker.values(transformation=\"segments\")"
   ]
  },
  {
   "cell_type": "markdown",
   "metadata": {},
   "source": [
    "Both current density and potential are calculated in the 1D space of the morphology loop. sKCSD.values(estimate, transformation) calculates either CSD (estimate=\"CSD\") or potential (estimation=\"POT\") and allows both for transformation to segments and a 3D morphology (for no transformation specify transformation=None). By default (sKCSD.values()) potential and current density are transformed to a 3D cube spanning from (xmin, ymin, zmin) to (xmax, ymax, zmax). To store cell morphology, morphology loop, source positions and allow easy transformations between morphology (segments), morphology loop and 3D cube, sKCSD uses a separate object sKCSDcell. By default sKCSD uses minimum and maximum neuron coordinates from the swc file."
   ]
  },
  {
   "cell_type": "code",
   "execution_count": 22,
   "metadata": {},
   "outputs": [
    {
     "data": {
      "text/plain": [
       "Text(0.5,1,'estimated current density')"
      ]
     },
     "execution_count": 22,
     "metadata": {},
     "output_type": "execute_result"
    },
    {
     "data": {
      "image/png": "[encoded data removed]",
      "text/plain": [
       "<Figure size 432x288 with 2 Axes>"
      ]
     },
     "metadata": {
      "needs_background": "light"
     },
     "output_type": "display_data"
    }
   ],
   "source": [
    "fig, ax = plt.subplots(1, 2)\n",
    "ax[1].set_aspect('equal')\n",
    "ax[1].set_xlabel('time (ms)')\n",
    "ax[1].imshow(skcsd, origin=\"lower\", aspect=\"auto\",\n",
    "             interpolation=\"none\", cmap=\"bwr\",\n",
    "             vmin=vmin, vmax=vmax,\n",
    "             extent=[time[0], time[-1], 1, len(seglen)])\n",
    "ax[0].set_aspect('equal')\n",
    "ax[0].set_xlabel('time (ms)')\n",
    "ax[0].set_ylabel('#segment')\n",
    "ax[0].imshow(ground_truth, origin=\"lower\", aspect=\"auto\",\n",
    "             interpolation=\"none\", cmap=\"bwr\",\n",
    "             vmin=vmin, vmax=vmax,\n",
    "             extent=[time[0], time[-1], 1, len(seglen)])\n",
    "ax[0].set_title('Ground truth')\n",
    "ax[1].set_title('estimated current density')\n"
   ]
  },
  {
   "cell_type": "markdown",
   "metadata": {},
   "source": [
    "To calculate CSD in the 3D cube:"
   ]
  },
  {
   "cell_type": "code",
   "execution_count": 25,
   "metadata": {},
   "outputs": [],
   "source": [
    "skcsd_3D =  ker.values(transformation=\"3D\")"
   ]
  },
  {
   "cell_type": "markdown",
   "metadata": {},
   "source": [
    "To visualize morphology you can use the sKCSD object:"
   ]
  },
  {
   "cell_type": "code",
   "execution_count": 41,
   "metadata": {},
   "outputs": [],
   "source": [
    "morpho_z, extent = ker.cell.draw_cell2D(axis=2)"
   ]
  },
  {
   "cell_type": "code",
   "execution_count": 42,
   "metadata": {},
   "outputs": [
    {
     "data": {
      "text/plain": [
       "<matplotlib.image.AxesImage at 0x7fceb1166be0>"
      ]
     },
     "execution_count": 42,
     "metadata": {},
     "output_type": "execute_result"
    },
    {
     "data": {
      "image/png": "[encoded data removed]",
      "text/plain": [
       "<Figure size 432x288 with 1 Axes>"
      ]
     },
     "metadata": {
      "needs_background": "light"
     },
     "output_type": "display_data"
    }
   ],
   "source": [
    "fig, ax = plt.subplots(1, 1)\n",
    "ax.imshow(morpho_z, origin=\"lower\", aspect=\"auto\", interpolation=\"none\", extent=extent)"
   ]
  },
  {
   "cell_type": "markdown",
   "metadata": {},
   "source": [
    "Or create a new sKCSDcell object using morphology data and electrode positions:"
   ]
  },
  {
   "cell_type": "code",
   "execution_count": 16,
   "metadata": {},
   "outputs": [],
   "source": [
    "cell_itself = sKCSDcell(data.morphology, data.ele_pos, n_src)"
   ]
  },
  {
   "cell_type": "markdown",
   "metadata": {},
   "source": [
    "If sKCSDcell object is created by sKCSD the minimum and maximum 3D coordinates take values of the minimum and maximum coordinates of the morphology. When creating a separate sKCSDcell object one can specify custom xmin, ymin, zmin and xmax, ymax, zmax, which can later be convenient, when plotting CSD and electrode positions. Another useful parameter is tolerance, which specifies minimum width of the voxel (in any direction). By default tolerance is set to 2 um."
   ]
  },
  {
   "cell_type": "code",
   "execution_count": 18,
   "metadata": {},
   "outputs": [],
   "source": [
    "tolerance = 3e-6\n",
    "xmin = data.ele_pos[:, 0].min() - 20e-6\n",
    "xmax = data.ele_pos[:, 0].max() + 20e-6\n",
    "ymin = data.ele_pos[:, 1].min() - 20e-6\n",
    "ymax = data.ele_pos[:, 1].max() + 20e-6\n",
    "zmin = data.ele_pos[:, 2].min() - 20e-6\n",
    "zmax = data.ele_pos[:, 2].max() + 20e-6\n",
    "cell_itself = sKCSDcell(data.morphology, data.ele_pos, n_src,\n",
    "                        xmin=xmin, xmax=xmax, ymin=ymin, ymax=ymax,\n",
    "                        zmin=zmin, zmax=zmax, tolerance=tolerance)"
   ]
  },
  {
   "cell_type": "raw",
   "metadata": {},
   "source": [
    "morpho_z = cell_itself."
   ]
  }
 ],
 "metadata": {
  "kernelspec": {
   "display_name": "Python 3",
   "language": "python",
   "name": "python3"
  },
  "language_info": {
   "codemirror_mode": {
    "name": "ipython",
    "version": 3
   },
   "file_extension": ".py",
   "mimetype": "text/x-python",
   "name": "python",
   "nbconvert_exporter": "python",
   "pygments_lexer": "ipython3",
   "version": "3.6.7"
  }
 },
 "nbformat": 4,
 "nbformat_minor": 2
}
