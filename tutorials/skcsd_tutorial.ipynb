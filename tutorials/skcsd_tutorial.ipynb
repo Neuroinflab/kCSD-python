{
 "cells": [
  {
   "cell_type": "markdown",
   "metadata": {},
   "source": [
    "# sKCSD tutorial\n",
    "In this tutorial we will cover three topics: data format for sKCSD estimation, sKCSD method and source visualization. "
   ]
  },
  {
   "cell_type": "code",
   "execution_count": 1,
   "metadata": {},
   "outputs": [],
   "source": [
    "from kcsd import sKCSDcell, sKCSD, sample_data_path\n",
    "from kcsd import utility_functions as utils\n",
    "from kcsd.utility_functions import LoadData\n",
    "import numpy as np\n",
    "import matplotlib.pyplot as plt\n",
    "import os"
   ]
  },
  {
   "cell_type": "code",
   "execution_count": 10,
   "metadata": {},
   "outputs": [],
   "source": [
    "data_fname = os.path.join(sample_data_path, \"gang_7x7_200\")\n"
   ]
  },
  {
   "cell_type": "code",
   "execution_count": 11,
   "metadata": {},
   "outputs": [
    {
     "name": "stdout",
     "output_type": "stream",
     "text": [
      "Load /home/jszmek/kCSD-python/kcsd/../data/gang_7x7_200/morphology/gang_7x7_200_rows_4_cols_4_xmin_-200_xmax_200_ymin_-200_ymax_200_orientation_3.swc\n",
      "Load /home/jszmek/kCSD-python/kcsd/../data/gang_7x7_200/electrode_positions/elcoord_x_y_z\n",
      "Load /home/jszmek/kCSD-python/kcsd/../data/gang_7x7_200/LFP/MyLFP\n"
     ]
    }
   ],
   "source": [
    "data = LoadData(data_fname)"
   ]
  },
  {
   "cell_type": "markdown",
   "metadata": {},
   "source": [
    "Data should be divided into three subdirectories: morphology, electrode_positions and LFP, each containing one file with morphology, electrode_positions and LFP. LoadData currently supports only swc morphology format. LoadData can read in electrode positions as a text file either with 1 column with x postions for each electrode followed by y postions for each electrodes followed by z positions of each electrode; or a textfile with 3 columns with x, y, z electrode postions.  LFPs should be a text file with appropriate numbers of the shape of n_electrodes x n_time_samples. LoadData also allows for initialization of an empty object and reading in arbitrary data files from specific location using assign function: \n",
    "data1 = LoadData()\n",
    "data1.assign('morphology', path_to_morphology_file)\n",
    "data1.assign('electrode_positions_file', path_to_electrode_positions_file)\n",
    "data1.assign('LFP', path_to_LFP_file)"
   ]
  },
  {
   "cell_type": "markdown",
   "metadata": {},
   "source": [
    "Data used in this tutorial was generated using figures/skcsd_paper/run_LFPy.py (class for running example simulations using LFPy). LFPy uses mV for voltage, ms for time and um for distance (or position). sKCSD (and KCSD) requires data in SI units. That is why data used for sKCSD estimation needs to be scaled."
   ]
  },
  {
   "cell_type": "code",
   "execution_count": 12,
   "metadata": {},
   "outputs": [],
   "source": [
    "data.LFP /= 1e3\n",
    "data.morphology[:, 2:5] /= 1e6\n",
    "data.ele_pos /= 1e6"
   ]
  },
  {
   "cell_type": "markdown",
   "metadata": {},
   "source": [
    "Let us visualise the current density."
   ]
  },
  {
   "cell_type": "code",
   "execution_count": 13,
   "metadata": {},
   "outputs": [
    {
     "data": {
      "text/plain": [
       "<matplotlib.image.AxesImage at 0x7fa447d01128>"
      ]
     },
     "execution_count": 13,
     "metadata": {},
     "output_type": "execute_result"
    },
    {
     "data": {
      "image/png": "[encoded data removed]",
      "text/plain": [
       "<Figure size 432x288 with 1 Axes>"
      ]
     },
     "metadata": {
      "needs_background": "light"
     },
     "output_type": "display_data"
    }
   ],
   "source": [
    "#Other parameters\n",
    "\n",
    "dt = 0.5\n",
    "t_stop = 100 #  ms\n",
    "tolerance = 2e-6\n",
    "seglen = np.loadtxt(os.path.join(data_fname, 'seglength'))\n",
    "ground_truth = np.loadtxt(os.path.join(data_fname, 'membcurr'))/seglen[:, None]*1e-3\n",
    "vmin, vmax =  ground_truth.min(), ground_truth.max()\n",
    "if abs(vmin) > abs(vmax):\n",
    "    vmax = abs(vmin)\n",
    "else:\n",
    "    vmin = -vmax\n",
    "fig, ax = plt.subplots(1, 1)\n",
    "ax.set_aspect('equal')\n",
    "ax.set_xlabel('time (ms)')\n",
    "ax.set_ylabel('#segment')\n",
    "ax.imshow(ground_truth, origin=\"lower\", aspect=\"auto\", interpolation=\"none\", cmap=\"bwr\", vmin=vmin, vmax=vmax, extent=[0, t_stop, 1, len(seglen)])\n"
   ]
  },
  {
   "cell_type": "markdown",
   "metadata": {},
   "source": [
    "To calculate sKCSD you must specify the width of the source (R) and noise level (lambd). For neuron morphologies R is going to be of the order of microns. We specified lambd = 10000, which amounts to roughly 10% noise."
   ]
  },
  {
   "cell_type": "code",
   "execution_count": null,
   "metadata": {},
   "outputs": [
    {
     "name": "stderr",
     "output_type": "stream",
     "text": [
      "/home/jszmek/.local/lib/python3.6/site-packages/scipy/integrate/quadpack.py:385: IntegrationWarning: The maximum number of subdivisions (50) has been achieved.\n",
      "  If increasing the limit yields no improvement it is advised to analyze \n",
      "  the integrand in order to determine the difficulties.  If the position of a \n",
      "  local difficulty can be determined (singularity, discontinuity) one will \n",
      "  probably gain from splitting up the interval and calling the integrator \n",
      "  on the subranges.  Perhaps a special-purpose integrator should be used.\n",
      "  warnings.warn(msg, IntegrationWarning)\n"
     ]
    }
   ],
   "source": [
    "n_src = 100\n",
    "R = 8e-6\n",
    "lambd = 10000\n",
    "ker = sKCSD(data.ele_pos,\n",
    "            data.LFP,\n",
    "            data.morphology,\n",
    "            n_src_init=n_src,\n",
    "            src_type='gauss',\n",
    "            lambd=lambd,\n",
    "            R_init=R,\n",
    "            tolerance=tolerance,\n",
    "            exact=True)"
   ]
  },
  {
   "cell_type": "markdown",
   "metadata": {},
   "source": [
    "skcsd.values(estimate) provides potential and current source density. For potential estimate=\"POT\", for  current density estimate='CSD'. By default skcsd.values() provides CSD."
   ]
  },
  {
   "cell_type": "code",
   "execution_count": 42,
   "metadata": {},
   "outputs": [
    {
     "name": "stdout",
     "output_type": "stream",
     "text": [
      "-0.00016152110067751046 0.00020729213957480422\n"
     ]
    }
   ],
   "source": [
    "skcsd = ker.values(transformation=\"segments\")\n",
    "print(skcsd.min(), skcsd.max())\n"
   ]
  },
  {
   "cell_type": "markdown",
   "metadata": {},
   "source": [
    "skcsd.values() allows both for transformation to segments and a 3D morphology. By default potential and current density are transformed to a 3D cube spanning from (xmin, ymin, zmin) to (xmax, ymax, zmax). To store cell morphology, morphology loop, source positions and allow easy transformations between morphology (segments), morphology loop and 3D cube, sKCSD uses a separate object sKCSDcell. By default sKCSD uses minimum and maximum neuron coordinates from the swc file."
   ]
  },
  {
   "cell_type": "code",
   "execution_count": 46,
   "metadata": {},
   "outputs": [
    {
     "name": "stdout",
     "output_type": "stream",
     "text": [
      "-0.00018654020717563097 0.00018654020717563097\n"
     ]
    },
    {
     "data": {
      "text/plain": [
       "Text(0.5,1,'estimated current density')"
      ]
     },
     "execution_count": 46,
     "metadata": {},
     "output_type": "execute_result"
    },
    {
     "data": {
      "image/png": "[encoded data removed]",
      "text/plain": [
       "<Figure size 432x288 with 2 Axes>"
      ]
     },
     "metadata": {
      "needs_background": "light"
     },
     "output_type": "display_data"
    }
   ],
   "source": [
    "print(vmin, vmax)\n",
    "fig, ax = plt.subplots(1, 2)\n",
    "ax[1].set_aspect('equal')\n",
    "ax[1].set_xlabel('time (ms)')\n",
    "ax[1].imshow(skcsd, origin=\"lower\", aspect=\"auto\", interpolation=\"none\", cmap=\"bwr\", vmin=vmin, vmax=vmax, extent=[0, t_stop, 1, len(seglen)])\n",
    "ax[0].set_aspect('equal')\n",
    "ax[0].set_xlabel('time (ms)')\n",
    "ax[0].set_ylabel('#segment')\n",
    "ax[0].imshow(ground_truth, origin=\"lower\", aspect=\"auto\", interpolation=\"none\", cmap=\"bwr\", vmin=vmin, vmax=vmax, extent=[0, t_stop, 1, len(seglen)])\n",
    "ax[0].set_title('Ground truth')\n",
    "ax[1].set_title('estimated current density')\n"
   ]
  },
  {
   "cell_type": "code",
   "execution_count": null,
   "metadata": {},
   "outputs": [],
   "source": []
  }
 ],
 "metadata": {
  "kernelspec": {
   "display_name": "Python 3",
   "language": "python",
   "name": "python3"
  },
  "language_info": {
   "codemirror_mode": {
    "name": "ipython",
    "version": 3
   },
   "file_extension": ".py",
   "mimetype": "text/x-python",
   "name": "python",
   "nbconvert_exporter": "python",
   "pygments_lexer": "ipython3",
   "version": "3.6.7"
  }
 },
 "nbformat": 4,
 "nbformat_minor": 2
}
